{
 "cells": [
  {
   "cell_type": "markdown",
   "id": "38fb61af-2a1e-488b-bec2-4b8af454728a",
   "metadata": {},
   "source": [
    "# Trabajo Práctico N◦ 2: Matrices Insumo-Producto."
   ]
  },
  {
   "cell_type": "code",
   "execution_count": 1,
   "id": "98f47911-22ae-45a1-aa09-54a5a414707c",
   "metadata": {},
   "outputs": [],
   "source": [
    "from funciones import potenciaDeMatriz, siguientePotencia, metodoPotencia\n",
    "import numpy as np\n",
    "import matplotlib.pyplot as plt\n",
    "import pandas as pd"
   ]
  },
  {
   "cell_type": "markdown",
   "id": "ca839f48-9b64-4449-8c47-452ceb039ad8",
   "metadata": {},
   "source": [
    "## Consigna 1"
   ]
  },
  {
   "cell_type": "code",
   "execution_count": 2,
   "id": "c4046f53-2b88-4cd5-9a51-e3a9eca349e5",
   "metadata": {},
   "outputs": [],
   "source": [
    "# Probar..."
   ]
  },
  {
   "cell_type": "markdown",
   "id": "ca78aec0-1448-49f3-8128-3f1b705a6468",
   "metadata": {},
   "source": [
    "## Consigna 2"
   ]
  },
  {
   "cell_type": "code",
   "execution_count": 3,
   "id": "e6dbb714-4c38-4f2b-a36a-c90e10644663",
   "metadata": {},
   "outputs": [
    {
     "name": "stdout",
     "output_type": "stream",
     "text": [
      "A1\n",
      " [[0.186 0.521 0.014 0.32  0.134]\n",
      " [0.24  0.073 0.219 0.013 0.327]\n",
      " [0.098 0.12  0.311 0.302 0.208]\n",
      " [0.173 0.03  0.133 0.14  0.074]\n",
      " [0.303 0.256 0.323 0.225 0.257]]\n",
      "\n",
      "Primeros 10 valores de a1:\n",
      " [1.1626315  1.03547727 1.03759792 1.03723717 1.03735967 1.03732524\n",
      " 1.03733386 1.03733118 1.03733185 1.03733165]\n",
      "\n",
      "A2\n",
      " [[0.186 0.521 0.014 0.32  0.134]\n",
      " [0.24  0.073 0.219 0.013 0.327]\n",
      " [0.098 0.12  0.311 0.302 0.208]\n",
      " [0.173 0.03  0.133 0.14  0.074]\n",
      " [0.003 0.256 0.323 0.225 0.257]]\n",
      "\n",
      "Primeros 30 valores de a2:\n",
      " [1.12245802 0.89646753 0.83830612 0.77619525 0.72072113 0.66833534\n",
      " 0.62006012 0.57516754 0.53356526 0.49495861 0.45915044 0.42593108\n",
      " 0.39511576 0.36652964 0.34001178 0.31541241 0.29259278 0.27142411\n",
      " 0.25178697 0.23357055 0.21667206 0.20099615 0.18645437 0.17296466\n",
      " 0.16045092 0.14884253 0.13807399 0.12808453 0.1188178  0.11022151]\n"
     ]
    }
   ],
   "source": [
    "# Definimos las matrices\n",
    "A1 = np.array([[0.186, 0.521, 0.014, 0.32, 0.134],[0.24, 0.073, 0.219, 0.013, 0.327],[0.098, 0.12, 0.311, 0.302, 0.208],[0.173, 0.03, 0.133, 0.14, 0.074],[0.303, 0.256, 0.323, 0.225, 0.257]])\n",
    "A2 = np.array([[0.186, 0.521, 0.014, 0.32, 0.134],[0.24, 0.073, 0.219, 0.013, 0.327],[0.098, 0.12, 0.311, 0.302, 0.208],[0.173, 0.03, 0.133, 0.14, 0.074],[0.003, 0.256, 0.323, 0.225, 0.257]])\n",
    "\n",
    "#Definimos los vectores\n",
    "\n",
    "#Vector base de largo 250\n",
    "a1 = np.zeros(250) \n",
    "a2 = np.zeros(250)\n",
    "#Definimos el primer elemento de cada uno\n",
    "a1[0] = np.linalg.norm(A1)\n",
    "a2[0] = np.linalg.norm(A2)\n",
    "#Definimos recursivamente los siguientes 249 elementos\n",
    "A1_n = A1\n",
    "A2_n = A2\n",
    "for n in range(1, 250):\n",
    "    A1_n = siguientePotencia(A1_n, A1)\n",
    "    A2_n = siguientePotencia(A2_n, A2)\n",
    "    a1[n] = np.linalg.norm(A1_n, 2)\n",
    "    a2[n] = np.linalg.norm(A2_n, 2)\n",
    "\n",
    "print(\"A1\\n\", A1)\n",
    "print(\"\\nPrimeros 10 valores de a1:\\n\",a1[0:10])\n",
    "\n",
    "print(\"\\nA2\\n\", A2)\n",
    "print(\"\\nPrimeros 30 valores de a2:\\n\",a2[0:30])\n",
    " "
   ]
  },
  {
   "cell_type": "markdown",
   "id": "3f64b6a7-aff5-4818-8dad-717bfd525963",
   "metadata": {},
   "source": [
    "## Consigna 3"
   ]
  },
  {
   "cell_type": "code",
   "execution_count": 4,
   "id": "977dda60-07e3-48e1-af14-702646b0ce5a",
   "metadata": {},
   "outputs": [
    {
     "name": "stdout",
     "output_type": "stream",
     "text": [
      "Aproximación del autovalor máximo de A1: 1.0 \n",
      "Desviación estandar del autovalor de A1: 0.0\n",
      "\n",
      "Aproximación del autovalor máximo de A2: 0.9276514472123604 \n",
      "Desviación estandar del autovalor de A2: 1.4509557335799652e-16\n"
     ]
    }
   ],
   "source": [
    "A1_aval, A1_std = metodoPotencia(A1)\n",
    "A2_aval, A2_std = metodoPotencia(A2)\n",
    "\n",
    "print(\"Aproximación del autovalor máximo de A1:\", A1_aval,\"\\nDesviación estandar del autovalor de A1:\", A1_std)\n",
    "\n",
    "print(\"\\nAproximación del autovalor máximo de A2:\", A2_aval,\"\\nDesviación estandar del autovalor de A2:\", A2_std)"
   ]
  },
  {
   "cell_type": "markdown",
   "id": "4f37695c-919a-4a2b-bc5b-e2f4ec206deb",
   "metadata": {},
   "source": [
    "## Consigna 4"
   ]
  },
  {
   "cell_type": "markdown",
   "id": "81944ecd-59f0-4b6f-9ec9-04b5a6209810",
   "metadata": {},
   "source": [
    "### A) "
   ]
  },
  {
   "cell_type": "code",
   "execution_count": 5,
   "id": "03227341-6e1a-4b4d-ac2c-4d2074b12257",
   "metadata": {},
   "outputs": [
    {
     "data": {
      "image/png": "[encoded data removed]",
      "text/plain": [
       "<Figure size 432x288 with 1 Axes>"
      ]
     },
     "metadata": {
      "needs_background": "light"
     },
     "output_type": "display_data"
    }
   ],
   "source": [
    "#Definimos arrays base donde guardar los resultados de las series de potencia para cada matriz\n",
    "normas_serieA1 = np.zeros(100)\n",
    "normas_serieA2 = np.zeros(100)\n",
    "\n",
    "#Calculamos las series y sus normas\n",
    "I1 = np.identity(A1.shape[0])\n",
    "I2 = np.identity(A2.shape[0])\n",
    "##Definimos la primera posiciòn\n",
    "serieA1 = I1 + A1\n",
    "A1_n = A1\n",
    "normas_serieA1[0] = np.linalg.norm(serieA1)\n",
    "serieA2 = I2 + A2\n",
    "A2_n = A2\n",
    "normas_serieA2[0] = np.linalg.norm(serieA2)\n",
    "##Definimos el resto recursivamente\n",
    "for i in range(1, 100):\n",
    "    A1_n = siguientePotencia(A1_n, A1)\n",
    "    serieA1 = serieA1 + A1_n\n",
    "    normas_serieA1[i] = np.linalg.norm(serieA1)\n",
    "\n",
    "    A2_n = siguientePotencia(A2_n, A2)\n",
    "    serieA2 = serieA2 + A2_n\n",
    "    normas_serieA2[i] = np.linalg.norm(serieA2)\n",
    "\n",
    "#Graficamos\n",
    "\n",
    "fig, ax = plt.subplots()\n",
    "#Dos puntos de A1 pedidos\n",
    "ax.scatter(9, normas_serieA1[9], color='purple', label='Norma en los puntos n=10 y n=100')\n",
    "ax.scatter(99, normas_serieA1[99], color='purple')\n",
    "#Dos puntos de A2 pedidos\n",
    "ax.scatter(9, normas_serieA2[9], color='brown', label='Norma en los puntos n=10 y n=100')\n",
    "ax.scatter(99, normas_serieA2[99], color='brown')\n",
    "#Plot con todos los puntos para mayor claridad\n",
    "ax.plot(np.arange(100), normas_serieA1, label=\"Serie A1\", color='blue')\n",
    "ax.plot(np.arange(100), normas_serieA2, label=\"Serie A2\", color='green')\n",
    "\n",
    "ax.set(xlabel=\"Valor de n\", ylabel=\"Norma de la serie\", title= 'Norma de la serie para cada valor de n desde 1 a 100' )\n",
    "ax.legend()\n",
    "plt.show()\n",
    "\n",
    "    "
   ]
  },
  {
   "cell_type": "markdown",
   "id": "b8464d69-df73-4b8c-b117-87ea9723dc71",
   "metadata": {},
   "source": [
    "### B) ###CAPAZ DESARROLLAR CON MAS GANAS###"
   ]
  },
  {
   "cell_type": "markdown",
   "id": "0d8523b4-5bf6-407a-8de6-540e2b08a9ce",
   "metadata": {},
   "source": [
    "Como podemos observar en el gráfico, la serie asociada a la matriz A2 converge normalmente pues tiende a una funciòn constante, a diferencia de la norma de la serie asociada a la matriz A1 la cual se observa como una recta de pendiente positiva, que diverge al infinito positivo. \n"
   ]
  },
  {
   "cell_type": "markdown",
   "id": "7ac7abea-8934-4fcf-97db-0ddec0610565",
   "metadata": {},
   "source": [
    "### C) COMPLETAR"
   ]
  },
  {
   "cell_type": "markdown",
   "id": "7c94dbe0-f542-423d-943c-5732219d1cad",
   "metadata": {},
   "source": [
    "### D) COMPLETAR "
   ]
  },
  {
   "cell_type": "markdown",
   "id": "74e39d7d-b2ef-4a3f-bc0f-46cd01bedf4f",
   "metadata": {},
   "source": [
    "## Consigna 5"
   ]
  },
  {
   "cell_type": "code",
   "execution_count": 7,
   "id": "f1994fba-0e97-4475-9ad1-f4e9d4087aee",
   "metadata": {},
   "outputs": [],
   "source": [
    "path = \"matrizlatina2011_compressed_0.xlsx\"\n",
    "dataset = pd.read_excel(path, sheet_name=1)\n",
    "\n",
    "#Definimos las matrices de nuestros dos paises\n",
    "COL = dataset[dataset[\"Country_iso3\"] ==\"COL\"]\n",
    "BOL = dataset[dataset[\"Country_iso3\"] ==\"BOL\"]"
   ]
  }
 ],
 "metadata": {
  "kernelspec": {
   "display_name": "Python 3 (ipykernel)",
   "language": "python",
   "name": "python3"
  },
  "language_info": {
   "codemirror_mode": {
    "name": "ipython",
    "version": 3
   },
   "file_extension": ".py",
   "mimetype": "text/x-python",
   "name": "python",
   "nbconvert_exporter": "python",
   "pygments_lexer": "ipython3",
   "version": "3.10.12"
  }
 },
 "nbformat": 4,
 "nbformat_minor": 5
}
